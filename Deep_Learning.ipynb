{
 "cells": [
  {
   "cell_type": "markdown",
   "id": "3f9fbb95-d7de-4a9c-9c37-24d77a31c3ae",
   "metadata": {},
   "source": [
    "![Deep Learning](https://media.licdn.com/dms/image/D4D12AQF_w7GFjpbt4g/article-cover_image-shrink_720_1280/0/1686981310860?e=1726099200&v=beta&t=hvmfZqcCPkxMpWrez22A1aJ9Dorxc5D0wzeLkP-8uiE)"
   ]
  },
  {
   "cell_type": "markdown",
   "id": "08cd9938-fd0c-4826-a1e5-57b8f5f9eae8",
   "metadata": {},
   "source": [
    "# Deep Learning"
   ]
  },
  {
   "cell_type": "markdown",
   "id": "c630f4dc-952a-454f-8408-1ca5353f539d",
   "metadata": {},
   "source": [
    "**Machine Learning**"
   ]
  },
  {
   "cell_type": "markdown",
   "id": "415fd586-3cf7-4b0e-b175-6835a1e23260",
   "metadata": {},
   "source": [
    "Machine Learning has become necessary in every sector as a way of making machines intelligent. In a simpler way, Machine Learning is set of algorithms that parse data, learn from them, and then apply what they’ve learned to make intelligent decisions.\n",
    "\n",
    "Examples of Machine Learning are everywhere. It’s how Netflix knows which show you’ll want to watch next or how Facebook recognises your friend’s face in a digital photo. Or how a customer service representative will know if you’ll be satisfied with their support before you even take a CSAT survey.\n",
    "\n",
    "The thing about traditional Machine Learning algorithms is that as complex as they may seem, they’re still machine like. They need lot of domain expertise, human intervention only capable of what they’re designed for; nothing more, nothing less. For AI designers and the rest of the world, that’s where deep learning holds a bit more promise."
   ]
  },
  {
   "cell_type": "markdown",
   "id": "93f3d670-53bb-464e-be6c-dd6c112a81f9",
   "metadata": {},
   "source": [
    "Shallow learning, also known as shallow machine learning or traditional machine learning, refers to a class of machine learning algorithms that typically involve a single layer of data transformation and learning. Unlike deep learning models, which are composed of multiple layers of interconnected nodes, shallow learning models have a simpler structure and are easier to interpret and understand.\n",
    "\n",
    "![Shallow Learning](https://encrypted-tbn0.gstatic.com/images?q=tbn:ANd9GcQhNORm-KJQAwO0b47tZ7gu5w64hGsfQ4tSnQ&s)"
   ]
  },
  {
   "cell_type": "markdown",
   "id": "3667e169-53b3-4a39-8188-2fa6db8850ed",
   "metadata": {},
   "source": [
    "## What is Deep Learning?"
   ]
  },
  {
   "cell_type": "markdown",
   "id": "759e00d2-b223-440e-af9d-fe0702643f9e",
   "metadata": {},
   "source": [
    "Deep learning allows computational models that are composed of multiple processing layers to learn representations of \n",
    "data with multiple levels of abstraction. These methods have dramatically improved the state-of-the-art in speech recognition, visual object recognition, object detection and many other domains such as drug discovery and genomics. Deep \n",
    "learning discovers intricate structure in large data sets by using the backpropagation algorithm to indicate how a machine \n",
    "should change its internal parameters that are used to compute the representation in each layer from the representation in \n",
    "the previous layer. Deep convolutional nets have brought about breakthroughs in processing images, video, speech and \n",
    "audio, whereas recurrent nets have shone light on sequential data such as text and speech. "
   ]
  },
  {
   "cell_type": "markdown",
   "id": "81e64d03-f64f-47ab-8a39-80b2d490f966",
   "metadata": {},
   "source": [
    "## Why Deep Learning over Traditional Machine Learning?"
   ]
  },
  {
   "cell_type": "markdown",
   "id": "a9853b86-f49f-4621-8641-0391ffe5afbd",
   "metadata": {},
   "source": [
    "Deep learning offers a host of advantages over machine learning, primarily due to its capability to handle vast amounts of unstructured data with high complexity. Unlike traditional machine learning techniques, deep learning algorithms can automatically extract intricate patterns and features from raw data, eliminating the need for manual feature engineering.\n",
    "\n",
    "This not only saves valuable time but also enhances the efficiency and accuracy of predictive models. Furthermore, the improved accuracy in predictions achieved through deep learning algorithms is a significant benefit in various fields such as healthcare, finance, and natural language processing. By leveraging deep neural networks, organizations can make more informed decisions based on precise insights derived from advanced models."
   ]
  },
  {
   "cell_type": "markdown",
   "id": "d67aee92-0011-4b05-a322-571fbfa00ffd",
   "metadata": {},
   "source": [
    "![Deep Learning](https://www.skywavelabs.com/wp-content/uploads/2021/09/deep-learning.gif)"
   ]
  },
  {
   "cell_type": "markdown",
   "id": "4a7348b1-2c5e-4cd8-8835-195d115d2798",
   "metadata": {},
   "source": [
    "**Neuron**"
   ]
  },
  {
   "cell_type": "markdown",
   "id": "d516358a-e98f-4ef7-9f01-9d61544710fe",
   "metadata": {},
   "source": [
    "begin our journey, let's start with a neuron. The neuron is the smallest unit and the building block of a neural network.\n",
    "\n",
    "Neurons in deep learning models are nodes through which data and computations flow. Neurons work like this: They receive one or more input signals. These input signals can come from either the raw data set or from neurons positioned at a previous layer of the neural net.\n"
   ]
  },
  {
   "cell_type": "markdown",
   "id": "be3394b2-ceee-40e8-9340-534597ce68c5",
   "metadata": {},
   "source": [
    "![Deep Learning](https://www.wolfram.com/language/introduction-machine-learning/deep-learning-methods/img/11-deep-learning-methods-Print-1.en.png)"
   ]
  },
  {
   "cell_type": "markdown",
   "id": "2c82aed8-ca11-40b9-8c8e-994e01315b01",
   "metadata": {},
   "source": [
    "### What is an Artificial Neural Network? (ANN)"
   ]
  },
  {
   "cell_type": "markdown",
   "id": "eb63f2a9-fe2f-4cc5-afc2-a079d82ce9e7",
   "metadata": {},
   "source": [
    "Neural networks are a set of dependent non-linear functions. Each individual function consists of a neuron (or a perceptron)\n",
    "\n",
    "Neural networks can learn complex patterns using layers of neurons which mathematically transform the data\n",
    "\n",
    "The layers between the input and output are referred to as “hidden layers”\n",
    "\n",
    "A neural network can learn relationships between the features that other algorithms cannot easily discover"
   ]
  },
  {
   "cell_type": "markdown",
   "id": "351c3556-c1e8-4345-aba7-55bdec54ca73",
   "metadata": {},
   "source": [
    "![ANN](https://encrypted-tbn0.gstatic.com/images?q=tbn:ANd9GcQk8-7FA6M3SG5Lv__6bmoRdY-8hdkgojpzAg&s)"
   ]
  },
  {
   "cell_type": "markdown",
   "id": "116705d9-5e25-4659-b661-e1b74e6c38e2",
   "metadata": {},
   "source": [
    "**What is Shallow Learning?**"
   ]
  },
  {
   "cell_type": "markdown",
   "id": "0c0f260a-87fb-43c7-a797-d1fdc972ffae",
   "metadata": {},
   "source": [
    "Shallow learning, also known as shallow machine learning or traditional machine learning, refers to a class of machine learning algorithms that typically involve a single layer of data transformation and learning. Unlike deep learning models, which are composed of multiple layers of interconnected nodes, shallow learning models have a simpler structure and are easier to interpret and understand."
   ]
  },
  {
   "cell_type": "markdown",
   "id": "92048e81-0524-4850-a6ce-c4ba462f94bf",
   "metadata": {},
   "source": [
    "![Shallow Learning](https://encrypted-tbn0.gstatic.com/images?q=tbn:ANd9GcQhNORm-KJQAwO0b47tZ7gu5w64hGsfQ4tSnQ&s)"
   ]
  },
  {
   "cell_type": "markdown",
   "id": "33f80e9e-a689-4beb-90bb-16f0ae349429",
   "metadata": {},
   "source": [
    "### What Is a Fully Connected dence Layer?"
   ]
  },
  {
   "cell_type": "markdown",
   "id": "04425206-7abc-4219-8b09-c9c0a08d3a08",
   "metadata": {},
   "source": [
    "A fully connected layer refers to a neural network in which each neuron applies a linear transformation to the input vector through a weights matrix. As a result, all possible connections layer-to-layer are present, meaning every input of the input vector influences every output of the output vector."
   ]
  },
  {
   "cell_type": "markdown",
   "id": "844aee99-1f99-4b97-aa87-0c2352d27f76",
   "metadata": {},
   "source": [
    "![ANN](https://machinelearningknowledge.ai/wp-content/uploads/2020/10/Keras-Dense-Layer-Example-in-Deep-Neural-Network.gif)"
   ]
  },
  {
   "cell_type": "markdown",
   "id": "eaec0e18-add5-41eb-9982-ba08b0fb9763",
   "metadata": {},
   "source": [
    "## Weights: "
   ]
  },
  {
   "cell_type": "markdown",
   "id": "40dbdb8c-136b-468f-9a53-9057353ad9c6",
   "metadata": {},
   "source": [
    " Weights refer to connection managements between two basic units within a neural network. To train these units to move forward in the network, weights of unit signals must be increased or decreased. These connections will then be tested, reversed through the network to identify errors, and repeated to produce the optimal results.\n",
    "\n",
    " The weight determines the strength of the connection between two neurons in the network"
   ]
  },
  {
   "cell_type": "markdown",
   "id": "78c33273-42a1-4725-af6c-6d988cf46947",
   "metadata": {},
   "source": [
    "## Bias:"
   ]
  },
  {
   "cell_type": "markdown",
   "id": "c1605397-d04b-45cc-8e33-724097894a80",
   "metadata": {},
   "source": [
    " In simple words, neural network bias can be defined as the constant which is added to the product of features and weights. It is used to offset the result. It helps the models to shift the activation function towards the positive or negative side."
   ]
  },
  {
   "cell_type": "markdown",
   "id": "a0ea68ee-e5f7-4402-a2a7-ae52be4d1d38",
   "metadata": {},
   "source": [
    "## Activation Function"
   ]
  },
  {
   "cell_type": "markdown",
   "id": "b213ee85-da99-4827-98ee-fd632f75e68a",
   "metadata": {},
   "source": [
    "**The second computation performed by the neuron is called an activation. This is done by taking the output of the weighted sum and passing it through an activation function.**\n",
    "\n",
    "When you build your neural network, one of the choices you get to make is what activation function to use in the hidden layers as well as at the output units of your neural network. "
   ]
  },
  {
   "cell_type": "markdown",
   "id": "a998df6c-0f47-4949-b8ec-6c81cd525ff1",
   "metadata": {},
   "source": [
    "![ANN](https://media.licdn.com/dms/image/D4D12AQFiUZSDwI_aCA/article-cover_image-shrink_720_1280/0/1683202704276?e=1726704000&v=beta&t=CWdDQHL6Gu31p5DxOEYhta7mgTpw8_HW33IZWkAkmzg)"
   ]
  },
  {
   "cell_type": "markdown",
   "id": "63bd1229-8b74-4b62-9b3f-b36bf38565ea",
   "metadata": {},
   "source": [
    "**optimization**"
   ]
  },
  {
   "cell_type": "markdown",
   "id": "7cbb7218-e5e0-41c3-bfee-b76b5a10e136",
   "metadata": {},
   "source": [
    "While training the deep learning optimizers model, modify each epoch's weights and minimize the loss function. An optimizer is a function or an algorithm that adjusts the attributes of the neural network, such as weights and learning rates. Thus, it helps in reducing the overall loss and improving accuracy."
   ]
  },
  {
   "cell_type": "markdown",
   "id": "fa4dfced-d0cb-4d93-a8f9-e3f2dc9e93d8",
   "metadata": {},
   "source": [
    "### Forward and Backward Propagation in Deep Learning"
   ]
  },
  {
   "cell_type": "markdown",
   "id": "78c68662-bea0-4063-b05c-83d18a18a56d",
   "metadata": {},
   "source": [
    "In the vast sea of neural networks, Forward and Backward Propagation in Deep Learning are the guiding currents that drive the learning process. "
   ]
  },
  {
   "cell_type": "markdown",
   "id": "875d11f4-0502-4935-82ac-06c7496658b8",
   "metadata": {},
   "source": [
    "**Forward Propagation:** implies the forward propagating from the input layer to the output layer.\n",
    "    \n",
    "**Backward Propagation:** implies the backpropagation from the output layer to the input layer."
   ]
  },
  {
   "cell_type": "code",
   "execution_count": null,
   "id": "8d006429-6d4c-4dba-8507-6ecc126a5a94",
   "metadata": {},
   "outputs": [],
   "source": []
  },
  {
   "cell_type": "markdown",
   "id": "17e08bae-f003-4ac1-a493-b37b39a544c1",
   "metadata": {},
   "source": [
    "### Loss Function "
   ]
  },
  {
   "cell_type": "markdown",
   "id": "1c7ea64a-34f5-4f97-8efe-148233caef1e",
   "metadata": {},
   "source": [
    "In deep learning, a `loss function`, also known as a cost or objective function, is a crucial component that quantifies the dissimilarity between the predicted outputs generated by a neural network and the actual target values in a given dataset. The primary purpose of a loss function is to serve as a measure of how well or poorly the model is performing on a specific task. \n",
    "\n",
    "It provides a numerical value that represents the error or deviation between predictions and the ground truth. The ultimate goal during the training process is to minimize this loss function by iteratively adjusting the model’s parameters, ensuring that the neural network becomes increasingly accurate in making predictions."
   ]
  },
  {
   "cell_type": "markdown",
   "id": "015ef72a-843d-4c1c-a240-cb6f4199f010",
   "metadata": {},
   "source": [
    "**Loss Function Formula:**\n",
    "$$Loss = ∑\\limits _{i=1} ^{n} = (y_{i} - \\hat{y_{i}})^2$$\n"
   ]
  },
  {
   "cell_type": "markdown",
   "id": "2be49977-0762-46b4-bbd0-8820f6549e5e",
   "metadata": {},
   "source": [
    ">If the output is such that we feel the error value is high and different from reality, we understand that we need to use optimization. "
   ]
  },
  {
   "cell_type": "markdown",
   "id": "20a154bb-46a4-43da-8eff-05a685f027ac",
   "metadata": {},
   "source": [
    "#### We Want To Check Changing W(Weight):"
   ]
  },
  {
   "cell_type": "markdown",
   "id": "0e2b09c7-e60a-4309-b5d8-b68c454f40aa",
   "metadata": {},
   "source": [
    "$$W_{new} = η\\frac{∂L}{∂w_{old}}$$"
   ]
  },
  {
   "cell_type": "markdown",
   "id": "716cea13-7665-4f64-a872-850d29d3dedf",
   "metadata": {},
   "source": [
    "#### Chain Rule In Backward"
   ]
  },
  {
   "cell_type": "markdown",
   "id": "332da6ed-9104-47f8-a383-d82a2dcdc57f",
   "metadata": {},
   "source": [
    "The chain rule is useful when dealing with nested or layered functions, such as in the case of a deep neural network. By applying the chain rule iteratively through the layers, we can compute the gradients and propagate them backward during backpropagation, allowing the network to learn and adjust its parameters.\n",
    "\n",
    "We have a chain here, so the sum of them will be a loss \n",
    "\n",
    "\n",
    "$$Loss = ∑\\limits _{i=1} ^{n} = (y_{i} - {y_{i}})^2+(y_{i} - {y_{i}})^2+(y_{i} -{y_{i}})^2$$"
   ]
  },
  {
   "cell_type": "markdown",
   "id": "70cf4a43-8f36-4763-8678-9e891ccb2fa9",
   "metadata": {},
   "source": [
    "#### We want to calculate the ratio of loss to w in the fourth layer:\n",
    "$$\\frac{∂L}{∂w_{11}^{4}} = \\frac{∂L}{∂O_{41}} * \\frac{∂O_{41}}{∂w_{11}^{4}}$$\n"
   ]
  },
  {
   "cell_type": "markdown",
   "id": "5002ec7c-3deb-43d4-8578-04db93787ae6",
   "metadata": {},
   "source": [
    "##### When we want to go back and calculate the loss for w of the third layer, we use the following formula:\n",
    "\n",
    "$$\\frac{∂L}{∂w_{11}^{3}} = \\frac{∂L}{∂w_{11}^{4}} * \\frac{∂w_{11}^{4}}{∂O_{31}} * \\frac{∂O_{31}}{∂w_{11}^{3}}$$"
   ]
  },
  {
   "cell_type": "markdown",
   "id": "33743915-f94a-48e1-91c6-e01c6e83fa9a",
   "metadata": {},
   "source": [
    "#### Weighted Sum:\n",
    "$$∑\\limits _{i=1} ^{n} x_{i}w_{i}$$\n",
    "\n",
    "**Our goal is to find the best value of `bias`, `weight`**\n",
    "\n",
    "$$f(x) =∑\\limits _{i=1} ^{n} x_{i}w_{i}+{b}$$"
   ]
  },
  {
   "cell_type": "markdown",
   "id": "00d060d8-e00a-4f7c-98b5-d36454930626",
   "metadata": {},
   "source": [
    "**If we want to display f(x) as a matrix:**\n",
    "\n",
    "$$\n",
    "\\left [\n",
    "\\begin{matrix}\n",
    "y_{1} & y_{2} & y_{3} & y_{4}\n",
    "\\end{matrix}\n",
    "\\right]_{1*4}= \\left [\n",
    "\\begin{matrix}\n",
    "x_{1} & x_{2} & x_{3}\n",
    "\\end{matrix}\n",
    "\\right]_{1*3}  \\left [\n",
    "\\begin{matrix}\n",
    "w_{11} & w_{12} & w_{12} & w_{14}\\\\\n",
    "w_{21} & w_{22} & w_{23} & w_{24} \\\\\n",
    "w_{31} & w_{32} & w_{33} & w_{34}\n",
    "\\end{matrix}\n",
    "\\right ]_{3*4} \\tag{3-3}+ \\left [\n",
    "\\begin{matrix}\n",
    "b_{1} & b_{2} & b_{3} & b_{4}\n",
    "\\end{matrix}\n",
    "\\right]_{1*4}\n",
    "$$\n"
   ]
  },
  {
   "cell_type": "markdown",
   "id": "b52f10f8-547b-423f-af38-aafd65ed3c1f",
   "metadata": {},
   "source": [
    "### Sigmoid (Logistic)"
   ]
  },
  {
   "cell_type": "markdown",
   "id": "80f978fe-3d11-4203-a808-2785e22af086",
   "metadata": {},
   "source": [
    "The sigmoid activation function has applications to deep learning through its operations in neural networks. Briefly, you can think of each layer in a neural network as a matrix that takes in an input vector and produces an output vector. The whole network is formed by chaining such matrix multiplications together. In deep learning, an activation function applies some non-linear function after each matrix multiplication so the network can learn any necessary functional relationship and not just linear ones. \n"
   ]
  },
  {
   "cell_type": "markdown",
   "id": "a5a5e86f-df19-45f9-a2b6-f1b180274a73",
   "metadata": {},
   "source": [
    "##### Sigmoid Activation Function Formula:\n",
    "\n",
    "$$σ(x) = \\frac{1}{1+x^{-1}}$$"
   ]
  },
  {
   "cell_type": "markdown",
   "id": "ee7b4052-5821-4881-ab6e-fcda98fd37d9",
   "metadata": {},
   "source": [
    "**Disadvantages of Sigmoid functions:**\n",
    "\n",
    "- Prone to Vanishing Gradient problem.\n",
    "- The sigmoid function saturates at the extremes, meaning that very large or very small inputs result in outputs close to 1 or 0, respectively. This can lead to a loss of gradient information and slower learning.\n",
    "- In the sigmoid, the turning point is not on the centrality, in other words, the sigmoid is not symmetrical (we cannot say that a very strong positive value or a very strong negative value)\n",
    "\n",
    "**Advantages of Sigmoid functions:**\n",
    "- The sigmoid function is non-linear, which allows neural networks to model complex relationships between inputs and outputs.\n",
    "- The sigmoid function is smooth and differentiable, making it suitable for gradient-based optimization algorithms like backpropagation.\n",
    "- The sigmoid function outputs values between 0 and 1, which can be interpreted as probabilities. This makes it useful for binary classification problems\n",
    "- The sigmoid function normalizes the number.\n",
    "- It is very suitable for binary data.\n"
   ]
  },
  {
   "cell_type": "markdown",
   "id": "a689ac07-7748-4a7d-946e-4d9053b7a0f5",
   "metadata": {},
   "source": [
    "## import Library"
   ]
  },
  {
   "cell_type": "code",
   "execution_count": 91,
   "id": "81c69a87-ab78-48b2-af15-bc6d629a187f",
   "metadata": {},
   "outputs": [],
   "source": [
    "import numpy as np\n",
    "import matplotlib.pyplot as plt\n",
    "import sympy as sp"
   ]
  },
  {
   "cell_type": "markdown",
   "id": "2a8f7501-fe25-4c19-990b-b16284f5437d",
   "metadata": {},
   "source": [
    "**Create Data**"
   ]
  },
  {
   "cell_type": "code",
   "execution_count": 92,
   "id": "dcb334a2-9a24-44d2-bb92-976e6c432743",
   "metadata": {},
   "outputs": [
    {
     "name": "stdout",
     "output_type": "stream",
     "text": [
      "<class 'sympy.core.symbol.Symbol'>\n"
     ]
    },
    {
     "data": {
      "text/latex": [
       "$\\displaystyle x$"
      ],
      "text/plain": [
       "x"
      ]
     },
     "execution_count": 92,
     "metadata": {},
     "output_type": "execute_result"
    }
   ],
   "source": [
    "x = sp.symbols(\"x\")\n",
    "print(type(x))\n",
    "x"
   ]
  },
  {
   "cell_type": "code",
   "execution_count": 93,
   "id": "5f5cf1f6-703a-43f5-8ad6-7789bcb422dd",
   "metadata": {},
   "outputs": [
    {
     "data": {
      "text/latex": [
       "$\\displaystyle \\frac{1}{1 + e^{- x}}$"
      ],
      "text/plain": [
       "1/(1 + exp(-x))"
      ]
     },
     "execution_count": 93,
     "metadata": {},
     "output_type": "execute_result"
    }
   ],
   "source": [
    "sigmoid = 1/(1+sp.exp(-x))\n",
    "sigmoid"
   ]
  },
  {
   "cell_type": "markdown",
   "id": "8cc637d1-2d24-4072-a8dd-2b9e729e2dee",
   "metadata": {},
   "source": [
    "**Calculate the sigmoid differential in terms of x**"
   ]
  },
  {
   "cell_type": "code",
   "execution_count": 94,
   "id": "c074d716-5ab3-4bd0-836a-d19f112913dc",
   "metadata": {},
   "outputs": [
    {
     "data": {
      "text/latex": [
       "$\\displaystyle \\frac{e^{- x}}{\\left(1 + e^{- x}\\right)^{2}}$"
      ],
      "text/plain": [
       "exp(-x)/(1 + exp(-x))**2"
      ]
     },
     "execution_count": 94,
     "metadata": {},
     "output_type": "execute_result"
    }
   ],
   "source": [
    "sigmoid_devirative = sp.diff(sigmoid , x)\n",
    "sigmoid_devirative"
   ]
  },
  {
   "cell_type": "markdown",
   "id": "dce380d5-c10f-4b78-8250-fdfceb565aaa",
   "metadata": {},
   "source": [
    "**We need to convert the inputs to numpy**"
   ]
  },
  {
   "cell_type": "code",
   "execution_count": 95,
   "id": "67a0fe39-9373-4efc-82c7-f5ec16cea491",
   "metadata": {},
   "outputs": [
    {
     "data": {
      "text/plain": [
       "<function _lambdifygenerated(x)>"
      ]
     },
     "execution_count": 95,
     "metadata": {},
     "output_type": "execute_result"
    }
   ],
   "source": [
    "sigmoid_function = sp.lambdify(x, sigmoid, \"numpy\")\n",
    "sigmoid_function"
   ]
  },
  {
   "cell_type": "code",
   "execution_count": 96,
   "id": "6d567475-3b6d-490d-91d7-806374eaa9a6",
   "metadata": {},
   "outputs": [],
   "source": [
    "sigmoid_derivative_function = sp.lambdify(x, sigmoid_devirative, \"numpy\")"
   ]
  },
  {
   "cell_type": "code",
   "execution_count": 97,
   "id": "b44a71b4-45c3-41fc-89b3-024aa37d295a",
   "metadata": {},
   "outputs": [
    {
     "name": "stdout",
     "output_type": "stream",
     "text": [
      "[8, 0.9996646498695336]\n",
      "[8, 0.0003352376707564743]\n"
     ]
    }
   ],
   "source": [
    "x0 = 8\n",
    "y0 = sigmoid_function(x0)\n",
    "y0d = sigmoid_derivative_function(x0) #The derivative of the function y0\n",
    "print(f\"[{x0}, {y0}]\")\n",
    "print(f\"[{x0}, {y0d}]\")"
   ]
  },
  {
   "cell_type": "code",
   "execution_count": 98,
   "id": "6364d264-edc9-4cdb-a891-8c0c26d34d46",
   "metadata": {},
   "outputs": [],
   "source": [
    "x = np.linspace(-10, 10, 600)"
   ]
  },
  {
   "cell_type": "code",
   "execution_count": 99,
   "id": "7e1d61eb-e622-44bf-9731-2ed37ba8f8da",
   "metadata": {},
   "outputs": [],
   "source": [
    "y = sigmoid_function(x)"
   ]
  },
  {
   "cell_type": "code",
   "execution_count": 100,
   "id": "51f4fbc9-1628-4ee3-a7a7-220e8a956824",
   "metadata": {},
   "outputs": [
    {
     "data": {
      "image/png": "[encoded data removed]",
      "text/plain": [
       "<Figure size 640x480 with 1 Axes>"
      ]
     },
     "metadata": {},
     "output_type": "display_data"
    }
   ],
   "source": [
    "plt.plot(x, y ,label = \"Sigmoid\", color = \"red\")\n",
    "plt.title(\"sigmoid\")\n",
    "plt.show()"
   ]
  },
  {
   "cell_type": "code",
   "execution_count": 66,
   "id": "5fb24824-e57e-4f39-8cf5-e1d6d43a65ef",
   "metadata": {},
   "outputs": [
    {
     "data": {
      "image/png": "[encoded data removed]",
      "text/plain": [
       "<Figure size 600x300 with 1 Axes>"
      ]
     },
     "metadata": {},
     "output_type": "display_data"
    }
   ],
   "source": [
    "plt.figure(figsize=(6, 3))\n",
    "plt.plot(x, y, label=\"Sigmoid\", color=\"green\")\n",
    "plt.scatter(x[300], y[300], marker=\"x\", c=\"k\")\n",
    "plt.scatter(x0, y0, marker=\"x\", c=\"k\")\n",
    "plt.grid(True)\n",
    "plt.show()"
   ]
  },
  {
   "cell_type": "code",
   "execution_count": 102,
   "id": "6009b8c2-e62d-46ba-9523-ad80b91f48ea",
   "metadata": {},
   "outputs": [
    {
     "data": {
      "image/png": "[encoded data removed]",
      "text/plain": [
       "<Figure size 600x300 with 1 Axes>"
      ]
     },
     "metadata": {},
     "output_type": "display_data"
    }
   ],
   "source": [
    "#The slope of the sigmoid graph is the maximum slope at the point x = 0\n",
    "yd = sigmoid_derivative_function(x)\n",
    "plt.figure(figsize=(6, 3))\n",
    "plt.plot(x, yd, label='Sigmoid Derivative', color='red', linestyle=\"--\")\n",
    "plt.scatter(x[300], yd[300], marker='x', c='k')\n",
    "plt.scatter(x0, y0d, marker='x', c='k')\n",
    "plt.title(\"Sigmoid Derivative\")\n",
    "plt.grid(True)\n",
    "plt.show()"
   ]
  },
  {
   "cell_type": "code",
   "execution_count": 68,
   "id": "1177a8ad-2467-4169-84e2-162753ad05d9",
   "metadata": {},
   "outputs": [],
   "source": [
    "yd = sigmoid_derivative_function(x)"
   ]
  },
  {
   "cell_type": "code",
   "execution_count": 103,
   "id": "d92879d8-1fe1-4829-bb8f-d1a88ed9b00c",
   "metadata": {},
   "outputs": [
    {
     "data": {
      "image/png": "[encoded data removed]",
      "text/plain": [
       "<Figure size 600x300 with 1 Axes>"
      ]
     },
     "metadata": {},
     "output_type": "display_data"
    }
   ],
   "source": [
    "plt.figure(figsize=(6, 3))\n",
    "plt.plot(x, y, label='Sigmoid', color='green')\n",
    "plt.plot(x, yd, label='Sigmoid Derivative', color='red', linestyle=\"--\")\n",
    "plt.title(\"Sigmoid and Sigmoid Derivative \")\n",
    "plt.legend()\n",
    "plt.grid(True)\n",
    "plt.show()"
   ]
  },
  {
   "cell_type": "markdown",
   "id": "1a4ce0b1-1d42-4de0-aef1-77e47f53f639",
   "metadata": {},
   "source": [
    "### Hyperbolic Tangent (tanh)"
   ]
  },
  {
   "cell_type": "markdown",
   "id": "2a3d35d6-6b94-4f64-a0a8-cb15c41ae4e5",
   "metadata": {},
   "source": [
    "The tanh activation function, also called the hyperbolic tangent activation function, is a mathematical function commonly used in artificial neural networks for their hidden layers. It transforms input values to produce output values between -1 and 1."
   ]
  },
  {
   "cell_type": "markdown",
   "id": "576ef9a5-9a8e-4133-b0c3-606669728174",
   "metadata": {},
   "source": [
    "**Hyperbolic Tangent Formula :**\n",
    "$$tanh(x) = \\frac{e^{x} - e^{-x}} {e^{x} + e^{-x}}$$"
   ]
  },
  {
   "cell_type": "code",
   "execution_count": 70,
   "id": "d1104c00-4b2c-40e7-aaa7-4ffdc90ff7d6",
   "metadata": {},
   "outputs": [],
   "source": [
    "x = sp.symbols(\"x\")"
   ]
  },
  {
   "cell_type": "code",
   "execution_count": 71,
   "id": "a0959351-6fe9-46b9-b92e-9871b9f8937e",
   "metadata": {},
   "outputs": [
    {
     "data": {
      "text/latex": [
       "$\\displaystyle \\tanh{\\left(x \\right)}$"
      ],
      "text/plain": [
       "tanh(x)"
      ]
     },
     "execution_count": 71,
     "metadata": {},
     "output_type": "execute_result"
    }
   ],
   "source": [
    "tanh = sp.tanh(x)\n",
    "tanh"
   ]
  },
  {
   "cell_type": "markdown",
   "id": "fc7b4c1e-a39d-44ba-bb3b-93ec713d3813",
   "metadata": {},
   "source": [
    "**Calculate the tanh differential in terms of x**"
   ]
  },
  {
   "cell_type": "code",
   "execution_count": 72,
   "id": "339d8da2-81a9-47f8-9877-8bb5948c6fde",
   "metadata": {},
   "outputs": [
    {
     "data": {
      "text/latex": [
       "$\\displaystyle 1 - \\tanh^{2}{\\left(x \\right)}$"
      ],
      "text/plain": [
       "1 - tanh(x)**2"
      ]
     },
     "execution_count": 72,
     "metadata": {},
     "output_type": "execute_result"
    }
   ],
   "source": [
    "tanh_der = sp.diff(tanh, x)\n",
    "tanh_der"
   ]
  },
  {
   "cell_type": "code",
   "execution_count": 73,
   "id": "8ba1c847-19b4-4e3b-b24d-e02c77ea6990",
   "metadata": {},
   "outputs": [],
   "source": [
    "tanh_func = sp.lambdify(x, tanh, 'numpy') # We need to convert the inputs to numpy"
   ]
  },
  {
   "cell_type": "code",
   "execution_count": 74,
   "id": "5d7e5977-0a9f-44f7-b485-eeb354f7727e",
   "metadata": {},
   "outputs": [],
   "source": [
    "tanh_der_func = sp.lambdify(x, tanh_der, 'numpy')"
   ]
  },
  {
   "cell_type": "code",
   "execution_count": 75,
   "id": "d4eb1055-fcb9-4a44-a90d-d97690fbb24e",
   "metadata": {},
   "outputs": [],
   "source": [
    "x_vals = np.linspace(-10, 10, 600)\n",
    "y_vals = tanh_func(x_vals)\n",
    "yd_vals = tanh_der_func(x_vals)"
   ]
  },
  {
   "cell_type": "code",
   "execution_count": 104,
   "id": "60f0daa2-c32f-42ef-91c0-669d173b7da3",
   "metadata": {},
   "outputs": [
    {
     "data": {
      "image/png": "[encoded data removed]",
      "text/plain": [
       "<Figure size 600x300 with 1 Axes>"
      ]
     },
     "metadata": {},
     "output_type": "display_data"
    }
   ],
   "source": [
    "plt.figure(figsize=(6, 3))\n",
    "plt.plot(x_vals, y_vals, label='tanh', color='green')\n",
    "plt.plot(x_vals, yd_vals, label='d[tanh]/dx', color='crimson', linestyle='--')\n",
    "plt.title(\"tanh and tanh Derivative\")\n",
    "plt.legend()\n",
    "plt.grid(True)\n",
    "plt.xlabel('x')\n",
    "plt.ylabel('y')\n",
    "plt.show()"
   ]
  },
  {
   "cell_type": "markdown",
   "id": "541efe9d-d95f-4c26-9438-dc4f667dc43d",
   "metadata": {},
   "source": [
    "**tanh is symmetric unlike sigmoid and also does some kind of normalization, but there is still the problem of gradient vanishing.**"
   ]
  },
  {
   "cell_type": "markdown",
   "id": "7ed827e3-3dd7-4787-ac6e-61af8da65aa7",
   "metadata": {},
   "source": [
    "## ReLU (Rectified Linear Unit)"
   ]
  },
  {
   "cell_type": "markdown",
   "id": "235cba64-998d-4704-bad0-09b16f0c703f",
   "metadata": {},
   "source": [
    "**The rectified linear unit (ReLU) or rectifier activation function introduces the property of nonlinearity to a deep learning model and solves the vanishing gradients issue. It interprets the positive part of its argument. It is one of the most popular activation functions in deep learning.**\n",
    "\n",
    "Sigmoid and tanh were monotonous, differentiable and previously more popular activation functions. However, these functions suffer saturation over time, and this leads to problems occurring with vanishing gradients. An alternative and the most popular activation function to overcome this issue is the Rectified Linear Unit (ReLU)."
   ]
  },
  {
   "cell_type": "markdown",
   "id": "fa650aac-3bb9-4147-9509-9ddd8e140173",
   "metadata": {},
   "source": [
    "### ReLU Formula\n",
    "$$ f(x)=   \\left\\{\n",
    "\\begin{array}{ll}\n",
    "      0 & x<0 \\\\\n",
    "      x & x>=0 \\\\\n",
    "\\end{array} \n",
    "\\right.  $$"
   ]
  },
  {
   "cell_type": "code",
   "execution_count": 80,
   "id": "b9b93c06-8841-453a-a9d6-45c2a29de8ff",
   "metadata": {},
   "outputs": [
    {
     "data": {
      "text/latex": [
       "$\\displaystyle \\begin{cases} 0 & \\text{for}\\: x < 0 \\\\x & \\text{otherwise} \\end{cases}$"
      ],
      "text/plain": [
       "Piecewise((0, x < 0), (x, True))"
      ]
     },
     "execution_count": 80,
     "metadata": {},
     "output_type": "execute_result"
    }
   ],
   "source": [
    "relu = sp.Piecewise((0, x < 0),(x, x >= 0))\n",
    "relu"
   ]
  },
  {
   "cell_type": "code",
   "execution_count": 81,
   "id": "f85e46ad-b953-4e23-8bc1-b9f3bced90aa",
   "metadata": {},
   "outputs": [
    {
     "data": {
      "text/latex": [
       "$\\displaystyle \\begin{cases} 0 & \\text{for}\\: x < 0 \\\\1 & \\text{otherwise} \\end{cases}$"
      ],
      "text/plain": [
       "Piecewise((0, x < 0), (1, True))"
      ]
     },
     "execution_count": 81,
     "metadata": {},
     "output_type": "execute_result"
    }
   ],
   "source": [
    "relu_der = sp.diff(relu, x) # Calculate the relu differential in terms of x\n",
    "relu_der"
   ]
  },
  {
   "cell_type": "code",
   "execution_count": 84,
   "id": "9724fd0a-a781-47ac-ac33-9be1cf806e9b",
   "metadata": {},
   "outputs": [],
   "source": [
    "relu_fun = sp.lambdify(x, relu, 'numpy')\n",
    "relu_der_fun = sp.lambdify(x, relu_der, 'numpy')"
   ]
  },
  {
   "cell_type": "code",
   "execution_count": 85,
   "id": "e2a8500c-439f-4714-8389-f8829935c504",
   "metadata": {},
   "outputs": [],
   "source": [
    "y_relu = relu_fun(x_vals)\n",
    "y_relu_der = relu_der_fun(x_vals)"
   ]
  },
  {
   "cell_type": "code",
   "execution_count": 105,
   "id": "31af5d3d-e63c-452c-a777-c9d3895664a6",
   "metadata": {},
   "outputs": [
    {
     "data": {
      "image/png": "[encoded data removed]",
      "text/plain": [
       "<Figure size 500x300 with 1 Axes>"
      ]
     },
     "metadata": {},
     "output_type": "display_data"
    }
   ],
   "source": [
    "plt.figure(figsize=(5, 3))\n",
    "plt.plot(x_vals, y_relu, color='green', label='ReLU')\n",
    "plt.plot(x_vals, y_relu_der, color='red', linestyle='--', label='d[ReLU]')\n",
    "plt.title(\"ReLU and ReLU Derivative\")\n",
    "plt.legend()\n",
    "plt.grid(True)\n",
    "plt.show()"
   ]
  },
  {
   "cell_type": "markdown",
   "id": "ce0b3604-12be-4670-81a0-803ffd92e942",
   "metadata": {},
   "source": [
    "#### note :\n",
    "\n",
    "The main issue with ReLU is that all the negative values become zero immediately, which decreases the ability of the model to fit or train from the data properly.\n",
    "\n",
    "That means any negative input given to the ReLU activation function turns the value into zero immediately in the graph, which in turn affects the resulting graph by not mapping the negative values appropriately. This can however be easily fixed by using the different variants of the ReLU activation function, like the leaky ReLU and other functions discussed earlier in the article.\n",
    "\n",
    "This is just a short introduction to the rectified linear unit and its importance in deep learning technology today. It’s more popular than all other activation functions, and for good reason. "
   ]
  },
  {
   "cell_type": "markdown",
   "id": "ec757f9a-7d88-4c59-a583-d2395408a73d",
   "metadata": {},
   "source": [
    "## Leaky ReLU\n",
    "\n",
    "Leaky Rectified Linear Unit, or Leaky ReLU, is a type of activation function based on a ReLU, but it has a small slope for negative values instead of a flat slope. The slope coefficient is determined before training, i.e. it is not learnt during training. This type of activation function is popular in tasks where we may suffer from sparse gradients, for example training generative adversarial networks."
   ]
  },
  {
   "cell_type": "markdown",
   "id": "9a443856-abb6-4623-8b39-7df59c8e9ce1",
   "metadata": {},
   "source": [
    "### Leaky ReLU Formula :\n",
    "$$ f(x)=   \\left\\{\n",
    "\\begin{array}{ll}\n",
    "      αx & x<0 \\\\\n",
    "      x & x>=0 \\\\\n",
    "\\end{array} \n",
    "\\right.  $$\n"
   ]
  },
  {
   "cell_type": "code",
   "execution_count": 108,
   "id": "1a0d4ee6-c2ab-4ff0-93b5-3a5c0b2c0505",
   "metadata": {},
   "outputs": [],
   "source": [
    "x = sp.symbols('x')"
   ]
  },
  {
   "cell_type": "code",
   "execution_count": 109,
   "id": "b42bf15d-4626-4cdb-8d3a-674d138107cc",
   "metadata": {},
   "outputs": [
    {
     "data": {
      "text/latex": [
       "$\\displaystyle \\begin{cases} 0.01 x & \\text{for}\\: x < 0 \\\\x & \\text{otherwise} \\end{cases}$"
      ],
      "text/plain": [
       "Piecewise((0.01*x, x < 0), (x, True))"
      ]
     },
     "execution_count": 109,
     "metadata": {},
     "output_type": "execute_result"
    }
   ],
   "source": [
    "alpha = 0.01\n",
    "leaky_relu = sp.Piecewise((alpha * x, x < 0),(x, x >= 0))\n",
    "leaky_relu"
   ]
  },
  {
   "cell_type": "code",
   "execution_count": 110,
   "id": "ebb5acff-6759-4f3e-abcb-e589be2f4c98",
   "metadata": {},
   "outputs": [
    {
     "data": {
      "text/latex": [
       "$\\displaystyle \\begin{cases} 0.01 & \\text{for}\\: x < 0 \\\\1 & \\text{otherwise} \\end{cases}$"
      ],
      "text/plain": [
       "Piecewise((0.01, x < 0), (1, True))"
      ]
     },
     "execution_count": 110,
     "metadata": {},
     "output_type": "execute_result"
    }
   ],
   "source": [
    "leaky_relu_derivative = sp.diff(leaky_relu, x) # Calculate the Leaky relu differential in terms of x\n",
    "leaky_relu_derivative"
   ]
  },
  {
   "cell_type": "code",
   "execution_count": 111,
   "id": "8f4c19e7-4274-4caf-9db0-4e475d08fa3b",
   "metadata": {},
   "outputs": [],
   "source": [
    "leaky_relu_func = sp.lambdify(x, leaky_relu, 'numpy')\n",
    "leaky_relu_derivative_func = sp.lambdify(x,leaky_relu_derivative,'numpy')"
   ]
  },
  {
   "cell_type": "code",
   "execution_count": 112,
   "id": "d3978507-3548-4a69-a119-5a24172cef11",
   "metadata": {},
   "outputs": [],
   "source": [
    "x_lrelu = np.linspace(-10, 10, 600)\n",
    "y_lrelu = leaky_relu_func(x_lrelu)\n",
    "y_dlrelu = leaky_relu_derivative_func(x_lrelu)"
   ]
  },
  {
   "cell_type": "code",
   "execution_count": 115,
   "id": "60ac2943-ba15-4b88-bdfb-1a8ca02e23eb",
   "metadata": {},
   "outputs": [
    {
     "data": {
      "image/png": "[encoded data removed]",
      "text/plain": [
       "<Figure size 600x300 with 1 Axes>"
      ]
     },
     "metadata": {},
     "output_type": "display_data"
    }
   ],
   "source": [
    "plt.figure(figsize=(6, 3))\n",
    "plt.plot(x_lrelu, y_lrelu, color='green',label=f'Leaky RelU (α={alpha})')\n",
    "plt.plot(x_lrelu, y_dlrelu, color='red',linestyle='--', label='Leaky RelU Derivative')\n",
    "plt.title('Leaky RelU and Leaky RelU Derivative')\n",
    "plt.xlabel('x')\n",
    "plt.ylabel('y')\n",
    "plt.legend()\n",
    "plt.grid(True)\n",
    "plt.show()"
   ]
  },
  {
   "cell_type": "markdown",
   "id": "f4d2b19b-6fbc-4f8b-b8f5-a3afdaab0c2f",
   "metadata": {},
   "source": [
    "## ELU (Exponentiol Linear Unit)\n",
    "\n",
    "The Exponential Linear Unit (ELU) is a nonlinear activation function used in neural networks, introduced as a means to enhance model learning and convergence speed. ELU aims to combine the advantages of ReLU (Rectified Linear Unit) and its variants (like Leaky ReLU) while addressing their limitations, particularly the dying neuron problem and the non-zero mean output that can slow learning. By allowing negative values and smoothing the transition between negative and positive values, ELU improves neuron activation diversity and training dynamics."
   ]
  },
  {
   "cell_type": "markdown",
   "id": "5f026dd7-9c18-4fb7-83d0-93fce0e4ea16",
   "metadata": {},
   "source": [
    "### ELU Formula :\n",
    "$$ f(x)=   \\left\\{\n",
    "\\begin{array}{ll}\n",
    "      α(e^{x}-1) & x<0 \\\\\n",
    "      x & x>=0 \\\\\n",
    "\\end{array} \n",
    "\\right.  $$"
   ]
  },
  {
   "cell_type": "code",
   "execution_count": 116,
   "id": "ba699244-05bb-42b9-a6c0-4fbda377101c",
   "metadata": {},
   "outputs": [],
   "source": [
    "x = sp.symbols('x')"
   ]
  },
  {
   "cell_type": "code",
   "execution_count": 117,
   "id": "dc3bcc9f-c856-4210-bfd3-93dee8144577",
   "metadata": {},
   "outputs": [
    {
     "data": {
      "text/latex": [
       "$\\displaystyle \\begin{cases} e^{x} - 1 & \\text{for}\\: x < 0 \\\\x & \\text{otherwise} \\end{cases}$"
      ],
      "text/plain": [
       "Piecewise((exp(x) - 1, x < 0), (x, True))"
      ]
     },
     "execution_count": 117,
     "metadata": {},
     "output_type": "execute_result"
    }
   ],
   "source": [
    "alpha = 1\n",
    "elu = sp.Piecewise((alpha * (sp.exp(x) - 1), x < 0),(x, x >= 0))\n",
    "elu"
   ]
  },
  {
   "cell_type": "code",
   "execution_count": 118,
   "id": "f82d33ba-585e-4097-bb5e-e7596f6795a9",
   "metadata": {},
   "outputs": [
    {
     "data": {
      "text/latex": [
       "$\\displaystyle \\begin{cases} e^{x} & \\text{for}\\: x < 0 \\\\1 & \\text{otherwise} \\end{cases}$"
      ],
      "text/plain": [
       "Piecewise((exp(x), x < 0), (1, True))"
      ]
     },
     "execution_count": 118,
     "metadata": {},
     "output_type": "execute_result"
    }
   ],
   "source": [
    "elu_derivative = sp.diff(elu, x)   # Calculate the ELU differential in terms of x\n",
    "elu_derivative"
   ]
  },
  {
   "cell_type": "code",
   "execution_count": 119,
   "id": "0bf7c44a-c40c-4945-b583-e2667c4d5140",
   "metadata": {},
   "outputs": [],
   "source": [
    "elu_func = sp.lambdify(x, elu, 'numpy')\n",
    "elu_derivative_func = sp.lambdify(x, elu_derivative, 'numpy')"
   ]
  },
  {
   "cell_type": "code",
   "execution_count": 120,
   "id": "dca123d2-c3c3-4eac-a3e4-515cc1bcc554",
   "metadata": {},
   "outputs": [],
   "source": [
    "x_elu = np.linspace(-10, 10, 600)\n",
    "y_elu = elu_func(x_elu)\n",
    "y_delu = elu_derivative_func(x_elu)"
   ]
  },
  {
   "cell_type": "code",
   "execution_count": 123,
   "id": "0542171f-fd25-42dd-8653-4757d20f8d61",
   "metadata": {},
   "outputs": [
    {
     "data": {
      "image/png": "[encoded data removed]",
      "text/plain": [
       "<Figure size 600x400 with 1 Axes>"
      ]
     },
     "metadata": {},
     "output_type": "display_data"
    }
   ],
   "source": [
    "plt.figure(figsize=(6, 4))\n",
    "plt.plot(x_elu, y_elu, color='green',label=f'ELU (α={alpha})')\n",
    "plt.plot(x_elu, y_delu, color='red',linestyle='--', label='ELU Derivative')\n",
    "plt.title('ELU and ELU Derivative')\n",
    "plt.xlabel('x')\n",
    "plt.ylabel('y')\n",
    "plt.legend()\n",
    "plt.grid(True)\n",
    "plt.show()"
   ]
  },
  {
   "cell_type": "markdown",
   "id": "ad402b4b-0292-4c39-9689-1762bd516971",
   "metadata": {},
   "source": [
    "#### Advanced Level Activation Functions"
   ]
  },
  {
   "cell_type": "markdown",
   "id": "c8c5cce7-fc5d-4831-80b1-a649bfb26868",
   "metadata": {},
   "source": [
    "### softmax ( Softmax_multi dimentional input)\n",
    "\n",
    "The softmax activation function is a mathematical function that converts a vector of real numbers into a probability distribution. It exponentiates each element, making them positive, and then normalizes them by dividing by the sum of all exponentiated values"
   ]
  },
  {
   "cell_type": "markdown",
   "id": "bfe9ef53-aa29-4d68-822d-863fbe482f75",
   "metadata": {},
   "source": [
    "#### Softmax Formula :\n",
    "\n",
    "$$ softmax(x_{i}) = \\frac{e^{x_{i}}} {\\sum{e^{x_{j}}}} $$\n"
   ]
  },
  {
   "cell_type": "markdown",
   "id": "837283ab-0cac-419b-86b5-90cffb9b2419",
   "metadata": {},
   "source": [
    "#### Derivative Softmax Formula:\n",
    "\n",
    "$$ softmax^{'}(x_{i}) = softmax(x_{i}) (𝛿_{ij}- softmax(x_{j}))$$"
   ]
  },
  {
   "cell_type": "markdown",
   "id": "25c07634-7312-40f3-80ee-1ea42b78d708",
   "metadata": {},
   "source": [
    "### Swish"
   ]
  }
 ],
 "metadata": {
  "kernelspec": {
   "display_name": "Python 3 (ipykernel)",
   "language": "python",
   "name": "python3"
  },
  "language_info": {
   "codemirror_mode": {
    "name": "ipython",
    "version": 3
   },
   "file_extension": ".py",
   "mimetype": "text/x-python",
   "name": "python",
   "nbconvert_exporter": "python",
   "pygments_lexer": "ipython3",
   "version": "3.11.9"
  }
 },
 "nbformat": 4,
 "nbformat_minor": 5
}
