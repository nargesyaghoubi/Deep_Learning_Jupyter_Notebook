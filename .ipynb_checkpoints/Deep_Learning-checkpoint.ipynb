{
 "cells": [
  {
   "cell_type": "markdown",
   "id": "3f9fbb95-d7de-4a9c-9c37-24d77a31c3ae",
   "metadata": {},
   "source": [
    "![Deep Learning](https://media.licdn.com/dms/image/D4D12AQF_w7GFjpbt4g/article-cover_image-shrink_720_1280/0/1686981310860?e=1726099200&v=beta&t=hvmfZqcCPkxMpWrez22A1aJ9Dorxc5D0wzeLkP-8uiE)"
   ]
  },
  {
   "cell_type": "markdown",
   "id": "26db708e-b9b4-4e9e-83a6-477f22c98bdc",
   "metadata": {},
   "source": [
    "![Deep Learning](https://www.skywavelabs.com/wp-content/uploads/2021/09/deep-learning.gif)"
   ]
  },
  {
   "cell_type": "markdown",
   "id": "08cd9938-fd0c-4826-a1e5-57b8f5f9eae8",
   "metadata": {},
   "source": [
    "# Deep Learning"
   ]
  },
  {
   "cell_type": "markdown",
   "id": "3667e169-53b3-4a39-8188-2fa6db8850ed",
   "metadata": {},
   "source": [
    "## What is Deep Learning?"
   ]
  },
  {
   "cell_type": "code",
   "execution_count": null,
   "id": "ad0ba614-c835-478c-9f4d-b1091b8028db",
   "metadata": {},
   "outputs": [],
   "source": []
  }
 ],
 "metadata": {
  "kernelspec": {
   "display_name": "Python 3 (ipykernel)",
   "language": "python",
   "name": "python3"
  },
  "language_info": {
   "codemirror_mode": {
    "name": "ipython",
    "version": 3
   },
   "file_extension": ".py",
   "mimetype": "text/x-python",
   "name": "python",
   "nbconvert_exporter": "python",
   "pygments_lexer": "ipython3",
   "version": "3.11.9"
  }
 },
 "nbformat": 4,
 "nbformat_minor": 5
}
